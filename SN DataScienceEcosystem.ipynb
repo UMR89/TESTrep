{
 "cells": [
  {
   "cell_type": "markdown",
   "id": "be1bf34d-f974-4b60-8113-4d76c8baec6c",
   "metadata": {},
   "source": [
    "<center>\n",
    "    <img src=\"https://cf-courses-data.s3.us.cloud-object-storage.appdomain.cloud/IBMDeveloperSkillsNetwork-DS0105EN-SkillsNetwork/labs/Module2/images/SN_web_lightmode.png\" width=\"300\" alt=\"cognitiveclass.ai logo\">\n",
    "</center>\n"
   ]
  },
  {
   "cell_type": "markdown",
   "id": "3862885d-1cb1-45d9-8dbf-e66b9951ad6c",
   "metadata": {},
   "source": [
    "#### Add your code below following the instructions given in the course\n"
   ]
  },
  {
   "cell_type": "markdown",
   "id": "411497ca-fb88-44f0-a0f4-10c9d7bd5a75",
   "metadata": {},
   "source": [
    "# Data Science Tool and Ecosystem"
   ]
  },
  {
   "cell_type": "markdown",
   "id": "4fe3616f-d6b7-43de-b93e-1dab72dd984d",
   "metadata": {},
   "source": [
    "In this notebook, Data Science Tools and Ecosystems are summerized"
   ]
  },
  {
   "cell_type": "markdown",
   "id": "737731d1-14c9-4320-94f2-4c7e257de38d",
   "metadata": {},
   "source": [
    "**Objectives:**\n",
    "\n",
    "- List popular Data Science Languages\n",
    "- List commonly used Data Science Libraries\n",
    "- List Tools for Data Science\n",
    "- Evaluate some arithematic expressions using Python"
   ]
  },
  {
   "cell_type": "markdown",
   "id": "23179339-6998-49b4-8081-d50f9336c6c8",
   "metadata": {},
   "source": [
    "Some of the popular languages data scientists use are:\n",
    "\n",
    "1. Python\n",
    "2. R\n",
    "3. SQL\n",
    "4. Java\n",
    "5. Scala\n",
    "6. C++\n",
    "7. Julia"
   ]
  },
  {
   "cell_type": "markdown",
   "id": "d0bcf203-6fd5-4e1a-acd6-f4d93eb1a03c",
   "metadata": {},
   "source": [
    "Some of the commonly used libraries by Data Scientists include:\n",
    "\n",
    "- Python Libraries\n",
    "- Apache Spark\n",
    "- Scala"
   ]
  },
  {
   "cell_type": "markdown",
   "id": "2efce669-6485-43b3-87f0-1dcabe1412d5",
   "metadata": {},
   "source": [
    "|Data Science Tools|\n",
    "|----|\n",
    "|Jupyter|\n",
    "|R Studio|\n",
    "|Spyder|"
   ]
  },
  {
   "cell_type": "markdown",
   "id": "4a0c57ad-ff0d-4263-9341-79cf6e5d6567",
   "metadata": {},
   "source": [
    "### Below are a few examples of evaluating arithematic expressions in python:"
   ]
  },
  {
   "cell_type": "code",
   "execution_count": 2,
   "id": "fc14a409-0319-4db0-bcc8-7416e0a0cae8",
   "metadata": {},
   "outputs": [
    {
     "data": {
      "text/plain": [
       "17"
      ]
     },
     "execution_count": 2,
     "metadata": {},
     "output_type": "execute_result"
    }
   ],
   "source": [
    "# This is a simple arthematic expression to add and then multiply integers\n",
    "\n",
    "(3*4)+5"
   ]
  },
  {
   "cell_type": "code",
   "execution_count": 8,
   "id": "6c725815-8890-4714-867d-1b496e86170e",
   "metadata": {},
   "outputs": [
    {
     "name": "stdout",
     "output_type": "stream",
     "text": [
      "3.3333333333333335\n"
     ]
    }
   ],
   "source": [
    "# This will convert 200 minutes into hours by dividing by 60\n",
    "\n",
    "mins=200\n",
    "hrs=(mins/60)\n",
    "\n",
    "print(hrs)"
   ]
  },
  {
   "cell_type": "markdown",
   "id": "5ffe711e-07a8-4b46-b316-3cd28edbc21f",
   "metadata": {},
   "source": [
    "## Author\n",
    "Mohammad Omar"
   ]
  },
  {
   "cell_type": "code",
   "execution_count": null,
   "id": "8b221246-7ad5-4497-bd0f-c5a027228fb3",
   "metadata": {},
   "outputs": [],
   "source": []
  }
 ],
 "metadata": {
  "kernelspec": {
   "display_name": "Python 3 (ipykernel)",
   "language": "python",
   "name": "python3"
  },
  "language_info": {
   "codemirror_mode": {
    "name": "ipython",
    "version": 3
   },
   "file_extension": ".py",
   "mimetype": "text/x-python",
   "name": "python",
   "nbconvert_exporter": "python",
   "pygments_lexer": "ipython3",
   "version": "3.11.7"
  }
 },
 "nbformat": 4,
 "nbformat_minor": 5
}
